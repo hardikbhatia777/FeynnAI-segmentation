{
 "cells": [
  {
   "cell_type": "code",
   "execution_count": 1,
   "id": "226a5841-331a-4c95-81a2-8bf53eb06059",
   "metadata": {},
   "outputs": [],
   "source": [
    "import pandas as pd\n",
    "import numpy as np\n",
    "import seaborn\n",
    "import matplotlib.pyplot as plt"
   ]
  },
  {
   "cell_type": "code",
   "execution_count": 2,
   "id": "c32786de-fa0c-406a-9427-c2fc22813872",
   "metadata": {},
   "outputs": [
    {
     "data": {
      "text/plain": [
       "Index(['yummy', 'convenient', 'spicy', 'fattening', 'greasy', 'fast', 'cheap',\n",
       "       'tasty', 'expensive', 'healthy', 'disgusting', 'Like', 'Age',\n",
       "       'VisitFrequency', 'Gender'],\n",
       "      dtype='object')"
      ]
     },
     "execution_count": 2,
     "metadata": {},
     "output_type": "execute_result"
    }
   ],
   "source": [
    "df = pd.read_csv(\"./mcdonalds.csv\")\n",
    "df.columns"
   ]
  },
  {
   "cell_type": "code",
   "execution_count": 3,
   "id": "c5a68377-1960-4657-836c-f6ba2ae297c1",
   "metadata": {},
   "outputs": [
    {
     "data": {
      "text/plain": [
       "(1453, 15)"
      ]
     },
     "execution_count": 3,
     "metadata": {},
     "output_type": "execute_result"
    }
   ],
   "source": [
    "df.shape"
   ]
  },
  {
   "cell_type": "code",
   "execution_count": 4,
   "id": "66f82e2e-6e7a-4c0d-a34f-b88369922823",
   "metadata": {},
   "outputs": [
    {
     "data": {
      "text/html": [
       "<div>\n",
       "<style scoped>\n",
       "    .dataframe tbody tr th:only-of-type {\n",
       "        vertical-align: middle;\n",
       "    }\n",
       "\n",
       "    .dataframe tbody tr th {\n",
       "        vertical-align: top;\n",
       "    }\n",
       "\n",
       "    .dataframe thead th {\n",
       "        text-align: right;\n",
       "    }\n",
       "</style>\n",
       "<table border=\"1\" class=\"dataframe\">\n",
       "  <thead>\n",
       "    <tr style=\"text-align: right;\">\n",
       "      <th></th>\n",
       "      <th>yummy</th>\n",
       "      <th>convenient</th>\n",
       "      <th>spicy</th>\n",
       "      <th>fattening</th>\n",
       "      <th>greasy</th>\n",
       "      <th>fast</th>\n",
       "      <th>cheap</th>\n",
       "      <th>tasty</th>\n",
       "      <th>expensive</th>\n",
       "      <th>healthy</th>\n",
       "      <th>disgusting</th>\n",
       "      <th>Like</th>\n",
       "      <th>Age</th>\n",
       "      <th>VisitFrequency</th>\n",
       "      <th>Gender</th>\n",
       "    </tr>\n",
       "  </thead>\n",
       "  <tbody>\n",
       "    <tr>\n",
       "      <th>0</th>\n",
       "      <td>No</td>\n",
       "      <td>Yes</td>\n",
       "      <td>No</td>\n",
       "      <td>Yes</td>\n",
       "      <td>No</td>\n",
       "      <td>Yes</td>\n",
       "      <td>Yes</td>\n",
       "      <td>No</td>\n",
       "      <td>Yes</td>\n",
       "      <td>No</td>\n",
       "      <td>No</td>\n",
       "      <td>-3</td>\n",
       "      <td>61</td>\n",
       "      <td>Every three months</td>\n",
       "      <td>Female</td>\n",
       "    </tr>\n",
       "    <tr>\n",
       "      <th>1</th>\n",
       "      <td>Yes</td>\n",
       "      <td>Yes</td>\n",
       "      <td>No</td>\n",
       "      <td>Yes</td>\n",
       "      <td>Yes</td>\n",
       "      <td>Yes</td>\n",
       "      <td>Yes</td>\n",
       "      <td>Yes</td>\n",
       "      <td>Yes</td>\n",
       "      <td>No</td>\n",
       "      <td>No</td>\n",
       "      <td>+2</td>\n",
       "      <td>51</td>\n",
       "      <td>Every three months</td>\n",
       "      <td>Female</td>\n",
       "    </tr>\n",
       "    <tr>\n",
       "      <th>2</th>\n",
       "      <td>No</td>\n",
       "      <td>Yes</td>\n",
       "      <td>Yes</td>\n",
       "      <td>Yes</td>\n",
       "      <td>Yes</td>\n",
       "      <td>Yes</td>\n",
       "      <td>No</td>\n",
       "      <td>Yes</td>\n",
       "      <td>Yes</td>\n",
       "      <td>Yes</td>\n",
       "      <td>No</td>\n",
       "      <td>+1</td>\n",
       "      <td>62</td>\n",
       "      <td>Every three months</td>\n",
       "      <td>Female</td>\n",
       "    </tr>\n",
       "  </tbody>\n",
       "</table>\n",
       "</div>"
      ],
      "text/plain": [
       "  yummy convenient spicy fattening greasy fast cheap tasty expensive healthy  \\\n",
       "0    No        Yes    No       Yes     No  Yes   Yes    No       Yes      No   \n",
       "1   Yes        Yes    No       Yes    Yes  Yes   Yes   Yes       Yes      No   \n",
       "2    No        Yes   Yes       Yes    Yes  Yes    No   Yes       Yes     Yes   \n",
       "\n",
       "  disgusting Like  Age      VisitFrequency  Gender  \n",
       "0         No   -3   61  Every three months  Female  \n",
       "1         No   +2   51  Every three months  Female  \n",
       "2         No   +1   62  Every three months  Female  "
      ]
     },
     "execution_count": 4,
     "metadata": {},
     "output_type": "execute_result"
    }
   ],
   "source": [
    "df.head(3)"
   ]
  },
  {
   "cell_type": "code",
   "execution_count": 5,
   "id": "d08d1e86-0f35-4ecd-84a6-4c087b8eb3da",
   "metadata": {},
   "outputs": [
    {
     "data": {
      "text/plain": [
       "yummy         0.55\n",
       "convenient    0.91\n",
       "spicy         0.09\n",
       "fattening     0.87\n",
       "greasy        0.53\n",
       "fast          0.90\n",
       "cheap         0.60\n",
       "tasty         0.64\n",
       "expensive     0.36\n",
       "healthy       0.20\n",
       "disgusting    0.24\n",
       "dtype: float64"
      ]
     },
     "execution_count": 5,
     "metadata": {},
     "output_type": "execute_result"
    }
   ],
   "source": [
    "MD_x = df.iloc[:, 0:11]\n",
    "MD_x = (MD_x == \"Yes\").astype(int)\n",
    "column_means = np.round(MD_x.mean(axis=0), 2)\n",
    "column_means"
   ]
  },
  {
   "cell_type": "code",
   "execution_count": 6,
   "id": "1e4ea564-87f5-443e-ad2b-89a15b1fdeaa",
   "metadata": {},
   "outputs": [
    {
     "name": "stdout",
     "output_type": "stream",
     "text": [
      "Standard Deviation (Sdev) of Principal Components:\n",
      "[0.75704952 0.60745556 0.50461946 0.39879859 0.33740501 0.31027461\n",
      " 0.28969732 0.27512196 0.2652511  0.24884182 0.23690284]\n",
      "\n",
      "Proportion of Variance (Prop.Variance) of Principal Components:\n",
      "[0.29944723 0.19279721 0.13304535 0.08309578 0.05948052 0.05029956\n",
      " 0.0438491  0.03954779 0.0367609  0.03235329 0.02932326]\n",
      "\n",
      "Cumulative Proportion (Cum.Prop) of Principal Components:\n",
      "[0.29944723 0.49224445 0.6252898  0.70838558 0.7678661  0.81816566\n",
      " 0.86201476 0.90156255 0.93832345 0.97067674 1.        ]\n",
      "\n",
      "Rotation (Rotation) of Principal Components:\n",
      "[[-0.47693349 -0.15533159 -0.00635636  0.11623168  0.3044427  -0.10849325\n",
      "  -0.33718593 -0.47151394  0.32904173 -0.21371062  0.37475293]\n",
      " [ 0.36378978  0.016414    0.01880869 -0.03409395 -0.06383884 -0.0869722\n",
      "  -0.61063276  0.3073178   0.60128596  0.07659344 -0.13965633]\n",
      " [-0.30444402 -0.0625153  -0.03701866 -0.32235949 -0.80237317 -0.06464172\n",
      "  -0.14931026 -0.28726479  0.02439661  0.19205128 -0.08857138]\n",
      " [ 0.0551622  -0.14242496  0.19761927 -0.35413876  0.2539601  -0.09736269\n",
      "   0.11895823 -0.00254696  0.06781599  0.76348804  0.36953871]\n",
      " [-0.30753507  0.27760805  0.07062017 -0.07340475  0.36139895  0.10793025\n",
      "  -0.12897259 -0.21089912 -0.00312457  0.28784553 -0.72920859]\n",
      " [ 0.17073819 -0.34783006 -0.3550866  -0.40651542  0.20934711 -0.59463206\n",
      "  -0.10324067 -0.07691443 -0.26134151 -0.17822612 -0.21087805]\n",
      " [-0.28051863 -0.05973793  0.70763705 -0.38594277  0.03616962 -0.08684577\n",
      "  -0.04044934  0.36045348 -0.06838452 -0.34961569 -0.02679159]\n",
      " [ 0.01304117 -0.11307868  0.37593402  0.58962241 -0.13824084 -0.62779877\n",
      "   0.14006047 -0.07279193  0.02953939  0.17630281 -0.16718101]\n",
      " [ 0.57240278 -0.01846534  0.40027977 -0.16051227 -0.00284738  0.16619659\n",
      "   0.07606907 -0.63908592  0.06699639 -0.1855722  -0.07248255]\n",
      " [-0.11028437 -0.66581756 -0.07563413 -0.00533813  0.00870725  0.23953197\n",
      "   0.42808739  0.0791838   0.45439925 -0.03811713 -0.28959188]\n",
      " [ 0.04543901 -0.54161635  0.14172992  0.25090987  0.00164229  0.33926454\n",
      "  -0.48928285  0.01955226 -0.49006853  0.15760765 -0.04066227]]\n"
     ]
    }
   ],
   "source": [
    "from sklearn.decomposition import PCA\n",
    "\n",
    "pca = PCA()\n",
    "MD_pca = pca.fit_transform(MD_x)\n",
    "\n",
    "print(\"Standard Deviation (Sdev) of Principal Components:\")\n",
    "print(np.sqrt(pca.explained_variance_))\n",
    "print(\"\\nProportion of Variance (Prop.Variance) of Principal Components:\")\n",
    "print(pca.explained_variance_ratio_)\n",
    "print(\"\\nCumulative Proportion (Cum.Prop) of Principal Components:\")\n",
    "print(np.cumsum(pca.explained_variance_ratio_))\n",
    "print(\"\\nRotation (Rotation) of Principal Components:\")\n",
    "print(pca.components_)"
   ]
  },
  {
   "cell_type": "code",
   "execution_count": 7,
   "id": "d1c24fc0-7b1d-4ab9-a933-c2de5430780d",
   "metadata": {},
   "outputs": [
    {
     "data": {
      "text/plain": [
       "array([[ 0.42536706, -0.21907878,  0.6632553 , ...,  0.18100693,\n",
       "         0.51570617, -0.56707389],\n",
       "       [-0.21863768,  0.38818996, -0.73082668, ...,  0.11147641,\n",
       "         0.49331285, -0.50044033],\n",
       "       [ 0.37541475,  0.73043507, -0.12203978, ..., -0.32228786,\n",
       "         0.06175857,  0.24274108],\n",
       "       ...,\n",
       "       [-0.18589445,  1.06266156,  0.22085675, ...,  0.03825472,\n",
       "         0.05651822, -0.01279977],\n",
       "       [-1.18206441, -0.03856977,  0.56156066, ...,  0.02226748,\n",
       "        -0.00257265, -0.10531631],\n",
       "       [ 1.55024186,  0.27503101, -0.01373727, ..., -0.13658866,\n",
       "        -0.43279782, -0.45607556]])"
      ]
     },
     "execution_count": 7,
     "metadata": {},
     "output_type": "execute_result"
    }
   ],
   "source": [
    "MD_pca"
   ]
  },
  {
   "cell_type": "code",
   "execution_count": 8,
   "id": "40d8619d-e712-4bf8-9a86-3e03e4884e01",
   "metadata": {},
   "outputs": [
    {
     "name": "stdout",
     "output_type": "stream",
     "text": [
      "[[ 0.4 -0.2  0.7 ...  0.2  0.5 -0.6]\n",
      " [-0.2  0.4 -0.7 ...  0.1  0.5 -0.5]\n",
      " [ 0.4  0.7 -0.1 ... -0.3  0.1  0.2]\n",
      " ...\n",
      " [-0.2  1.1  0.2 ...  0.   0.1 -0. ]\n",
      " [-1.2 -0.   0.6 ...  0.  -0.  -0.1]\n",
      " [ 1.6  0.3 -0.  ... -0.1 -0.4 -0.5]]\n"
     ]
    }
   ],
   "source": [
    "num_digits = 1\n",
    "\n",
    "np.set_printoptions(precision=num_digits, suppress=True)\n",
    "print(MD_pca)"
   ]
  },
  {
   "cell_type": "code",
   "execution_count": 9,
   "id": "cc110037-98ac-4922-b1bc-782d350ca034",
   "metadata": {},
   "outputs": [
    {
     "data": {
      "image/png": "[encoded data removed]",
      "text/plain": [
       "<Figure size 800x600 with 1 Axes>"
      ]
     },
     "metadata": {},
     "output_type": "display_data"
    }
   ],
   "source": [
    "from sklearn.decomposition import PCA\n",
    "from sklearn.datasets import make_blobs\n",
    "\n",
    "pca = PCA()\n",
    "MD_pca = pca.fit_transform(MD_x)\n",
    "\n",
    "plt.figure(figsize=(8, 6))\n",
    "plt.scatter(MD_pca[:, 0], MD_pca[:, 1], color='grey', alpha=0.6)\n",
    "plt.xlabel('Principal Component 1')\n",
    "plt.ylabel('Principal Component 2')\n",
    "plt.title('PCA Results')\n",
    "plt.show()\n"
   ]
  },
  {
   "cell_type": "code",
   "execution_count": 10,
   "id": "4513a208-d106-4ecd-89d9-5fb5b4081040",
   "metadata": {},
   "outputs": [
    {
     "name": "stdout",
     "output_type": "stream",
     "text": [
      "Number of Clusters: 2\n",
      "[1 0 0 ... 0 0 1]\n",
      "------------------------------\n",
      "Number of Clusters: 3\n",
      "[2 1 1 ... 1 0 2]\n",
      "------------------------------\n",
      "Number of Clusters: 4\n",
      "[0 3 3 ... 3 2 1]\n",
      "------------------------------\n",
      "Number of Clusters: 5\n",
      "[4 1 2 ... 2 3 0]\n",
      "------------------------------\n",
      "Number of Clusters: 6\n",
      "[5 2 0 ... 0 1 3]\n",
      "------------------------------\n",
      "Number of Clusters: 7\n",
      "[4 0 3 ... 3 6 1]\n",
      "------------------------------\n",
      "Number of Clusters: 8\n",
      "[1 0 0 ... 5 2 3]\n",
      "------------------------------\n"
     ]
    }
   ],
   "source": [
    "# Here we will perform K-means clustering as defined in step 4 and 5 of the Market Segmentation Analysis\n",
    "\n",
    "from sklearn.cluster import KMeans\n",
    "\n",
    "# Set seed for reproducibility\n",
    "np.random.seed(1234)\n",
    "\n",
    "cluster_results = []\n",
    "for n_clusters in range(2, 9):\n",
    "    kmeans = KMeans(n_clusters=n_clusters, n_init=10, random_state=1234)\n",
    "    labels = kmeans.fit_predict(MD_x)\n",
    "    cluster_results.append(labels)\n",
    "\n",
    "def relabel_clusters(labels):\n",
    "    unique_labels = np.unique(labels)\n",
    "    relabeled = np.zeros_like(labels)\n",
    "    for i, label in enumerate(unique_labels):\n",
    "        relabeled[labels == label] = i\n",
    "    return relabeled\n",
    "\n",
    "# Relabel each set of cluster results\n",
    "relabel_cluster_results = [relabel_clusters(labels) for labels in cluster_results]\n",
    "\n",
    "for idx, labels in enumerate(relabel_cluster_results):\n",
    "    print(f\"Number of Clusters: {idx + 2}\")\n",
    "    print(labels)\n",
    "    print(\"-\" * 30)"
   ]
  },
  {
   "cell_type": "code",
   "execution_count": 11,
   "id": "ec21f5cf-07fd-43bd-b84e-ec79e114fea5",
   "metadata": {},
   "outputs": [
    {
     "name": "stdout",
     "output_type": "stream",
     "text": [
      "Optimal Number of Components: 7\n",
      "Cluster Labels:\n",
      "[6 6 2 ... 6 3 4]\n"
     ]
    }
   ],
   "source": [
    "from sklearn.mixture import GaussianMixture\n",
    "\n",
    "np.random.seed(1234)\n",
    "bic_scores = []\n",
    "cluster_results = []\n",
    "for n_components in range(2, 9):\n",
    "    gmm = GaussianMixture(n_components=n_components, n_init=10, random_state=1234)\n",
    "    gmm.fit(MD_x)\n",
    "    bic_scores.append(gmm.bic(MD_x))\n",
    "    labels = gmm.predict(MD_x)\n",
    "    cluster_results.append(labels)\n",
    "\n",
    "# Find the optimal number of components based on BIC\n",
    "optimal_components = np.argmin(bic_scores) + 2  # Adding 2 because the loop starts from 2\n",
    "\n",
    "print(\"Optimal Number of Components:\", optimal_components)\n",
    "\n",
    "optimal_cluster_labels = cluster_results[optimal_components - 2]  # Subtracting 2 because the loop starts from 2\n",
    "print(\"Cluster Labels:\")\n",
    "print(optimal_cluster_labels)\n"
   ]
  },
  {
   "cell_type": "code",
   "execution_count": null,
   "id": "97b2e6c8-7618-4ab4-941b-3509771e0d6c",
   "metadata": {},
   "outputs": [],
   "source": []
  },
  {
   "cell_type": "code",
   "execution_count": null,
   "id": "c4449ed7-3319-4f3f-9616-adb96a935b4c",
   "metadata": {},
   "outputs": [],
   "source": []
  }
 ],
 "metadata": {
  "kernelspec": {
   "display_name": "Python 3 (ipykernel)",
   "language": "python",
   "name": "python3"
  },
  "language_info": {
   "codemirror_mode": {
    "name": "ipython",
    "version": 3
   },
   "file_extension": ".py",
   "mimetype": "text/x-python",
   "name": "python",
   "nbconvert_exporter": "python",
   "pygments_lexer": "ipython3",
   "version": "3.10.9"
  }
 },
 "nbformat": 4,
 "nbformat_minor": 5
}
